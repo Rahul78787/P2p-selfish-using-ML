{
 "metadata": {
  "language_info": {
   "codemirror_mode": {
    "name": "ipython",
    "version": 3
   },
   "file_extension": ".py",
   "mimetype": "text/x-python",
   "name": "python",
   "nbconvert_exporter": "python",
   "pygments_lexer": "ipython3",
   "version": "3.8.5-final"
  },
  "orig_nbformat": 2,
  "kernelspec": {
   "name": "python3",
   "display_name": "Python 3.8.5 64-bit",
   "metadata": {
    "interpreter": {
     "hash": "31f2aee4e71d21fbe5cf8b01ff0e069b9275f58929596ceb00d14d90e3e16cd6"
    }
   }
  }
 },
 "nbformat": 4,
 "nbformat_minor": 2,
 "cells": [
  {
   "cell_type": "code",
   "execution_count": 1,
   "metadata": {},
   "outputs": [
    {
     "output_type": "execute_result",
     "data": {
      "text/plain": [
       "(11682, 12)"
      ]
     },
     "metadata": {},
     "execution_count": 1
    }
   ],
   "source": [
    "import pandas as pd\n",
    "dataset = pd.read_csv(\"flowWithSelfish.csv\")\n",
    "dataset.drop(dataset.columns[0], axis=1, inplace=True)\n",
    "dataset.shape"
   ]
  },
  {
   "cell_type": "code",
   "execution_count": 9,
   "metadata": {},
   "outputs": [],
   "source": [
    "X = dataset.iloc[:, [3,4,7,9]].values\n",
    "Y = dataset.iloc[:, 11].values\n",
    "from sklearn.model_selection import train_test_split\n",
    "X_train, X_test, y_train, y_test = train_test_split(X, Y, test_size=0.2, random_state=0)\n",
    "from sklearn.preprocessing import StandardScaler\n",
    "sc = StandardScaler()\n",
    "X_train = sc.fit_transform(X_train)\n",
    "X_test = sc.fit_transform(X_test)"
   ]
  },
  {
   "cell_type": "code",
   "execution_count": 10,
   "metadata": {},
   "outputs": [
    {
     "output_type": "execute_result",
     "data": {
      "text/plain": [
       "[0, 1, 2]"
      ]
     },
     "metadata": {},
     "execution_count": 10
    }
   ],
   "source": [
    "from sklearn.naive_bayes import GaussianNB\n",
    "classifier = GaussianNB()\n",
    "from sklearn.feature_selection import SequentialFeatureSelector\n",
    "selector = SequentialFeatureSelector(classifier, n_features_to_select=0.8)\n",
    "selector = selector.fit(X_train, y_train)\n",
    "order = []\n",
    "for i in range(0, selector.support_.size) : \n",
    "    if(selector.support_[i]) :\n",
    "        order.append(i)\n",
    "order"
   ]
  },
  {
   "cell_type": "code",
   "execution_count": 4,
   "metadata": {},
   "outputs": [
    {
     "output_type": "stream",
     "name": "stdout",
     "text": [
      "0 Source\n1 Destination\n4 Dest_port\n5 Flow_count\n6 Flow_size\n7 pkt_size_of_first_flow\n"
     ]
    }
   ],
   "source": [
    "for i in order :\n",
    "    print(i, f\"{dataset.columns[i]}\")"
   ]
  },
  {
   "cell_type": "code",
   "execution_count": 11,
   "metadata": {},
   "outputs": [
    {
     "output_type": "stream",
     "name": "stdout",
     "text": [
      "[[2109    0]\n [ 228    0]]\n              precision    recall  f1-score   support\n\n           0       0.90      1.00      0.95      2109\n           1       0.00      0.00      0.00       228\n\n    accuracy                           0.90      2337\n   macro avg       0.45      0.50      0.47      2337\nweighted avg       0.81      0.90      0.86      2337\n\n0.9024390243902439\n"
     ]
    }
   ],
   "source": [
    "classifier.fit(X_train, y_train)\n",
    "y_pred = classifier.predict(X_test)\n",
    "from sklearn.metrics import classification_report, confusion_matrix, accuracy_score\n",
    "print(confusion_matrix(y_test, y_pred))\n",
    "print(classification_report(y_test, y_pred))\n",
    "print(accuracy_score(y_test, y_pred))   "
   ]
  }
 ]
}