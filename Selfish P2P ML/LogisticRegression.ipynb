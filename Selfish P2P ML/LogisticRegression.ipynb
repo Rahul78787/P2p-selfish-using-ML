{
 "metadata": {
  "language_info": {
   "codemirror_mode": {
    "name": "ipython",
    "version": 3
   },
   "file_extension": ".py",
   "mimetype": "text/x-python",
   "name": "python",
   "nbconvert_exporter": "python",
   "pygments_lexer": "ipython3",
   "version": "3.8.5-final"
  },
  "orig_nbformat": 2,
  "kernelspec": {
   "name": "python3",
   "display_name": "Python 3.8.5 64-bit",
   "metadata": {
    "interpreter": {
     "hash": "31f2aee4e71d21fbe5cf8b01ff0e069b9275f58929596ceb00d14d90e3e16cd6"
    }
   }
  }
 },
 "nbformat": 4,
 "nbformat_minor": 2,
 "cells": [
  {
   "cell_type": "code",
   "execution_count": 43,
   "metadata": {},
   "outputs": [
    {
     "output_type": "execute_result",
     "data": {
      "text/plain": [
       "          Source      Destination Protocol  Src_port  Dest_port  Flow_count  \\\n",
       "0        0.0.0.0  255.255.255.255     DHCP        -1         -1         279   \n",
       "1    1.1.247.102  103.119.242.114      TCP        -1         -1           5   \n",
       "2    1.1.247.102  103.119.242.114      TCP      4001       4001           1   \n",
       "3  1.156.246.187  103.119.242.114      UDP     37186      32478           1   \n",
       "4  1.164.136.162  103.119.242.114      UDP      7536      32478           1   \n",
       "\n",
       "   Flow_size  pkt_size_of_first_flow  Flow_duration  \\\n",
       "0      95418                     342    3335.924975   \n",
       "1        330                      66     293.814945   \n",
       "2         66                      66     254.990643   \n",
       "3        331                     331    1821.708214   \n",
       "4        143                     143     950.648788   \n",
       "\n",
       "   first_flow_inter_arrival_time  pkt_size_to_flow_size  isSelfish  \n",
       "0                       0.005128               0.003584          0  \n",
       "1                       0.135032               0.200000          0  \n",
       "2                       0.747853               1.000000          0  \n",
       "3                       0.227403               1.000000          0  \n",
       "4                       3.748469               1.000000          0  "
      ],
      "text/html": "<div>\n<style scoped>\n    .dataframe tbody tr th:only-of-type {\n        vertical-align: middle;\n    }\n\n    .dataframe tbody tr th {\n        vertical-align: top;\n    }\n\n    .dataframe thead th {\n        text-align: right;\n    }\n</style>\n<table border=\"1\" class=\"dataframe\">\n  <thead>\n    <tr style=\"text-align: right;\">\n      <th></th>\n      <th>Source</th>\n      <th>Destination</th>\n      <th>Protocol</th>\n      <th>Src_port</th>\n      <th>Dest_port</th>\n      <th>Flow_count</th>\n      <th>Flow_size</th>\n      <th>pkt_size_of_first_flow</th>\n      <th>Flow_duration</th>\n      <th>first_flow_inter_arrival_time</th>\n      <th>pkt_size_to_flow_size</th>\n      <th>isSelfish</th>\n    </tr>\n  </thead>\n  <tbody>\n    <tr>\n      <th>0</th>\n      <td>0.0.0.0</td>\n      <td>255.255.255.255</td>\n      <td>DHCP</td>\n      <td>-1</td>\n      <td>-1</td>\n      <td>279</td>\n      <td>95418</td>\n      <td>342</td>\n      <td>3335.924975</td>\n      <td>0.005128</td>\n      <td>0.003584</td>\n      <td>0</td>\n    </tr>\n    <tr>\n      <th>1</th>\n      <td>1.1.247.102</td>\n      <td>103.119.242.114</td>\n      <td>TCP</td>\n      <td>-1</td>\n      <td>-1</td>\n      <td>5</td>\n      <td>330</td>\n      <td>66</td>\n      <td>293.814945</td>\n      <td>0.135032</td>\n      <td>0.200000</td>\n      <td>0</td>\n    </tr>\n    <tr>\n      <th>2</th>\n      <td>1.1.247.102</td>\n      <td>103.119.242.114</td>\n      <td>TCP</td>\n      <td>4001</td>\n      <td>4001</td>\n      <td>1</td>\n      <td>66</td>\n      <td>66</td>\n      <td>254.990643</td>\n      <td>0.747853</td>\n      <td>1.000000</td>\n      <td>0</td>\n    </tr>\n    <tr>\n      <th>3</th>\n      <td>1.156.246.187</td>\n      <td>103.119.242.114</td>\n      <td>UDP</td>\n      <td>37186</td>\n      <td>32478</td>\n      <td>1</td>\n      <td>331</td>\n      <td>331</td>\n      <td>1821.708214</td>\n      <td>0.227403</td>\n      <td>1.000000</td>\n      <td>0</td>\n    </tr>\n    <tr>\n      <th>4</th>\n      <td>1.164.136.162</td>\n      <td>103.119.242.114</td>\n      <td>UDP</td>\n      <td>7536</td>\n      <td>32478</td>\n      <td>1</td>\n      <td>143</td>\n      <td>143</td>\n      <td>950.648788</td>\n      <td>3.748469</td>\n      <td>1.000000</td>\n      <td>0</td>\n    </tr>\n  </tbody>\n</table>\n</div>"
     },
     "metadata": {},
     "execution_count": 43
    }
   ],
   "source": [
    "import pandas as pd\n",
    "dataset = pd.read_csv(\"flowWithSelfish.csv\")\n",
    "dataset.drop(dataset.columns[0], axis=1, inplace=True)\n",
    "dataset.head()\n",
    "# dataset.columns"
   ]
  },
  {
   "cell_type": "code",
   "execution_count": 44,
   "metadata": {},
   "outputs": [],
   "source": [
    "X = dataset.iloc[:, 3:11].values\n",
    "Y = dataset.iloc[:, 11].values\n",
    "from sklearn.model_selection import train_test_split\n",
    "X_train, X_test, y_train, y_test = train_test_split(X, Y, test_size=0.2, random_state=0)\n",
    "from sklearn.preprocessing import StandardScaler\n",
    "sc = StandardScaler()\n",
    "X_train = sc.fit_transform(X_train)\n",
    "X_test = sc.fit_transform(X_test)"
   ]
  },
  {
   "cell_type": "code",
   "execution_count": 45,
   "metadata": {},
   "outputs": [
    {
     "output_type": "execute_result",
     "data": {
      "text/plain": [
       "[3, 5, 6, 8, 9, 10]"
      ]
     },
     "metadata": {},
     "execution_count": 45
    }
   ],
   "source": [
    "from sklearn.linear_model import LogisticRegression\n",
    "classifier = LogisticRegression(C=1.0, solver=\"lbfgs\", multi_class=\"ovr\")\n",
    "from sklearn.feature_selection import RFE\n",
    "selector = RFE(classifier, n_features_to_select=0.8)\n",
    "selector = selector.fit(X_train, y_train)\n",
    "order = []\n",
    "for i in range(0, selector.support_.size) : \n",
    "    if(selector.support_[i]) :\n",
    "        order.append(i+3)\n",
    "order\n",
    "        "
   ]
  },
  {
   "cell_type": "code",
   "execution_count": 46,
   "metadata": {},
   "outputs": [
    {
     "output_type": "stream",
     "name": "stdout",
     "text": [
      "3 Src_port\n5 Flow_count\n6 Flow_size\n8 Flow_duration\n9 first_flow_inter_arrival_time\n10 pkt_size_to_flow_size\n"
     ]
    }
   ],
   "source": [
    "for i in order :\n",
    "    print(i, f\"{dataset.columns[i]}\")"
   ]
  },
  {
   "cell_type": "code",
   "execution_count": 47,
   "metadata": {},
   "outputs": [
    {
     "output_type": "stream",
     "name": "stdout",
     "text": [
      "[[2109    0]\n [ 228    0]]\n              precision    recall  f1-score   support\n\n           0       0.90      1.00      0.95      2109\n           1       0.00      0.00      0.00       228\n\n    accuracy                           0.90      2337\n   macro avg       0.45      0.50      0.47      2337\nweighted avg       0.81      0.90      0.86      2337\n\n0.9024390243902439\n"
     ]
    }
   ],
   "source": [
    "classifier.fit(X_train, y_train)\n",
    "y_pred = classifier.predict(X_test)\n",
    "from sklearn.metrics import classification_report, confusion_matrix, accuracy_score\n",
    "print(confusion_matrix(y_test, y_pred))\n",
    "print(classification_report(y_test, y_pred))\n",
    "print(accuracy_score(y_test, y_pred))"
   ]
  }
 ]
}